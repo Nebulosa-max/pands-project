{
 "cells": [
  {
   "cell_type": "code",
   "execution_count": 9,
   "id": "7dfce01d-d480-4776-a146-d2768896d6f0",
   "metadata": {},
   "outputs": [
    {
     "name": "stdout",
     "output_type": "stream",
     "text": [
      "Paths OK: True True\n"
     ]
    }
   ],
   "source": [
    "from pathlib import Path\n",
    "import pandas as pd\n",
    "import matplotlib.pyplot as plt\n",
    "\n",
    "ROOT = Path(\".\").resolve()\n",
    "DATA = ROOT / \"data\"\n",
    "IMAGES = ROOT / \"images\"\n",
    "IMAGES.mkdir(exist_ok=True)\n",
    "print(\"Paths OK:\", DATA.exists(), IMAGES.exists())"
   ]
  },
  {
   "cell_type": "code",
   "execution_count": 10,
   "id": "f0bc7947-386b-4abe-9e2f-860c3498c52e",
   "metadata": {},
   "outputs": [
    {
     "name": "stdout",
     "output_type": "stream",
     "text": [
      "(151, 5)\n"
     ]
    },
    {
     "data": {
      "text/html": [
       "<div>\n",
       "<style scoped>\n",
       "    .dataframe tbody tr th:only-of-type {\n",
       "        vertical-align: middle;\n",
       "    }\n",
       "\n",
       "    .dataframe tbody tr th {\n",
       "        vertical-align: top;\n",
       "    }\n",
       "\n",
       "    .dataframe thead th {\n",
       "        text-align: right;\n",
       "    }\n",
       "</style>\n",
       "<table border=\"1\" class=\"dataframe\">\n",
       "  <thead>\n",
       "    <tr style=\"text-align: right;\">\n",
       "      <th></th>\n",
       "      <th>sepal_length</th>\n",
       "      <th>sepal_width</th>\n",
       "      <th>petal_length</th>\n",
       "      <th>petal_width</th>\n",
       "      <th>class</th>\n",
       "    </tr>\n",
       "  </thead>\n",
       "  <tbody>\n",
       "    <tr>\n",
       "      <th>0</th>\n",
       "      <td>sepal_length</td>\n",
       "      <td>sepal_width</td>\n",
       "      <td>petal_length</td>\n",
       "      <td>petal_width</td>\n",
       "      <td>class</td>\n",
       "    </tr>\n",
       "    <tr>\n",
       "      <th>1</th>\n",
       "      <td>5.1</td>\n",
       "      <td>3.5</td>\n",
       "      <td>1.4</td>\n",
       "      <td>0.2</td>\n",
       "      <td>setosa</td>\n",
       "    </tr>\n",
       "    <tr>\n",
       "      <th>2</th>\n",
       "      <td>4.9</td>\n",
       "      <td>3.0</td>\n",
       "      <td>1.4</td>\n",
       "      <td>0.2</td>\n",
       "      <td>setosa</td>\n",
       "    </tr>\n",
       "    <tr>\n",
       "      <th>3</th>\n",
       "      <td>4.7</td>\n",
       "      <td>3.2</td>\n",
       "      <td>1.3</td>\n",
       "      <td>0.2</td>\n",
       "      <td>setosa</td>\n",
       "    </tr>\n",
       "    <tr>\n",
       "      <th>4</th>\n",
       "      <td>4.6</td>\n",
       "      <td>3.1</td>\n",
       "      <td>1.5</td>\n",
       "      <td>0.2</td>\n",
       "      <td>setosa</td>\n",
       "    </tr>\n",
       "  </tbody>\n",
       "</table>\n",
       "</div>"
      ],
      "text/plain": [
       "   sepal_length  sepal_width  petal_length  petal_width   class\n",
       "0  sepal_length  sepal_width  petal_length  petal_width   class\n",
       "1           5.1          3.5           1.4          0.2  setosa\n",
       "2           4.9          3.0           1.4          0.2  setosa\n",
       "3           4.7          3.2           1.3          0.2  setosa\n",
       "4           4.6          3.1           1.5          0.2  setosa"
      ]
     },
     "execution_count": 10,
     "metadata": {},
     "output_type": "execute_result"
    }
   ],
   "source": [
    "# Read the CSV in this repo and set column names\n",
    "df = pd.read_csv(DATA / \"iris.csv\", header=None)\n",
    "df.columns = [\"sepal_length\",\"sepal_width\",\"petal_length\",\"petal_width\",\"class\"]\n",
    "\n",
    "# quick sanity check\n",
    "print(df.shape)\n",
    "df.head()"
   ]
  },
  {
   "cell_type": "code",
   "execution_count": 11,
   "id": "74c1d169-c4f2-447b-ae34-8cd3c398fa97",
   "metadata": {},
   "outputs": [
    {
     "name": "stdout",
     "output_type": "stream",
     "text": [
      "Shape: (151, 5)\n",
      "\n",
      "Class counts:\n",
      " class\n",
      "setosa        50\n",
      "versicolor    50\n",
      "virginica     50\n",
      "class          1\n",
      "Name: count, dtype: int64\n"
     ]
    },
    {
     "data": {
      "text/html": [
       "<div>\n",
       "<style scoped>\n",
       "    .dataframe tbody tr th:only-of-type {\n",
       "        vertical-align: middle;\n",
       "    }\n",
       "\n",
       "    .dataframe tbody tr th {\n",
       "        vertical-align: top;\n",
       "    }\n",
       "\n",
       "    .dataframe thead th {\n",
       "        text-align: right;\n",
       "    }\n",
       "</style>\n",
       "<table border=\"1\" class=\"dataframe\">\n",
       "  <thead>\n",
       "    <tr style=\"text-align: right;\">\n",
       "      <th></th>\n",
       "      <th>sepal_length</th>\n",
       "      <th>sepal_width</th>\n",
       "      <th>petal_length</th>\n",
       "      <th>petal_width</th>\n",
       "      <th>class</th>\n",
       "    </tr>\n",
       "  </thead>\n",
       "  <tbody>\n",
       "    <tr>\n",
       "      <th>count</th>\n",
       "      <td>151</td>\n",
       "      <td>151</td>\n",
       "      <td>151</td>\n",
       "      <td>151</td>\n",
       "      <td>151</td>\n",
       "    </tr>\n",
       "    <tr>\n",
       "      <th>unique</th>\n",
       "      <td>36</td>\n",
       "      <td>24</td>\n",
       "      <td>44</td>\n",
       "      <td>23</td>\n",
       "      <td>4</td>\n",
       "    </tr>\n",
       "    <tr>\n",
       "      <th>top</th>\n",
       "      <td>5.0</td>\n",
       "      <td>3.0</td>\n",
       "      <td>1.5</td>\n",
       "      <td>0.2</td>\n",
       "      <td>setosa</td>\n",
       "    </tr>\n",
       "    <tr>\n",
       "      <th>freq</th>\n",
       "      <td>10</td>\n",
       "      <td>26</td>\n",
       "      <td>13</td>\n",
       "      <td>29</td>\n",
       "      <td>50</td>\n",
       "    </tr>\n",
       "  </tbody>\n",
       "</table>\n",
       "</div>"
      ],
      "text/plain": [
       "       sepal_length sepal_width petal_length petal_width   class\n",
       "count           151         151          151         151     151\n",
       "unique           36          24           44          23       4\n",
       "top             5.0         3.0          1.5         0.2  setosa\n",
       "freq             10          26           13          29      50"
      ]
     },
     "execution_count": 11,
     "metadata": {},
     "output_type": "execute_result"
    }
   ],
   "source": [
    "print(\"Shape:\", df.shape)\n",
    "print(\"\\nClass counts:\\n\", df[\"class\"].value_counts())\n",
    "df.describe()"
   ]
  },
  {
   "cell_type": "code",
   "execution_count": 13,
   "id": "b5e896b4-bf98-4f28-acd7-6092c3e4fc9a",
   "metadata": {},
   "outputs": [
    {
     "name": "stdout",
     "output_type": "stream",
     "text": [
      "Histograms saved to: /Users/sophiegotch/Documents/pands-project/images\n"
     ]
    }
   ],
   "source": [
    "# Cell 4 - Histograms\n",
    "import matplotlib.pyplot as plt\n",
    "\n",
    "numeric = [\"sepal_length\", \"sepal_width\", \"petal_length\", \"petal_width\"]\n",
    "\n",
    "for col in numeric:\n",
    "    plt.figure()\n",
    "    plt.hist(df[col], bins=20, color=\"skyblue\", edgecolor=\"black\")\n",
    "    plt.xlabel(col)\n",
    "    plt.ylabel(\"Frequency\")\n",
    "    plt.title(f\"Histogram of {col}\")\n",
    "    plt.tight_layout()\n",
    "    plt.savefig(IMAGES / f\"hist_{col}.png\")\n",
    "    plt.close()\n",
    "\n",
    "print(\"Histograms saved to:\", IMAGES)"
   ]
  },
  {
   "cell_type": "code",
   "execution_count": 14,
   "id": "0aecc638-81bc-435b-86c4-6313b77f3468",
   "metadata": {},
   "outputs": [
    {
     "name": "stdout",
     "output_type": "stream",
     "text": [
      "Saved scatter plots to: /Users/sophiegotch/Documents/pands-project/images\n"
     ]
    }
   ],
   "source": [
    "pairs = [(\"sepal_length\",\"sepal_width\"),\n",
    "         (\"sepal_length\",\"petal_length\"),\n",
    "         (\"sepal_length\",\"petal_width\"),\n",
    "         (\"sepal_width\",\"petal_length\"),\n",
    "         (\"sepal_width\",\"petal_width\"),\n",
    "         (\"petal_length\",\"petal_width\")]\n",
    "\n",
    "for x, y in pairs:\n",
    "    plt.figure()\n",
    "    for cls, sub in df.groupby(\"class\"):\n",
    "        plt.scatter(sub[x], sub[y], s=20, alpha=0.8, label=cls)\n",
    "    plt.xlabel(x); plt.ylabel(y)\n",
    "    plt.title(f\"{x} vs {y}\")\n",
    "    plt.legend()\n",
    "    plt.tight_layout()\n",
    "    plt.savefig(IMAGES / f\"scatter_{x}_vs_{y}.png\")\n",
    "    plt.close()\n",
    "\n",
    "print(\"Saved scatter plots to:\", IMAGES)"
   ]
  },
  {
   "cell_type": "code",
   "execution_count": 15,
   "id": "4e059e5c-140f-431c-a0f2-5670dbefbeff",
   "metadata": {},
   "outputs": [
    {
     "name": "stdout",
     "output_type": "stream",
     "text": [
      "Wrote /Users/sophiegotch/Documents/pands-project/summary.txt\n"
     ]
    }
   ],
   "source": [
    "out = ROOT / \"summary.txt\"\n",
    "with open(out, \"w\") as f:\n",
    "    f.write(\"Iris Dataset Summary\\n\")\n",
    "    f.write(\"=\"*30 + \"\\n\\n\")\n",
    "    f.write(str(df.describe()) + \"\\n\\n\")\n",
    "    f.write(\"Class counts:\\n\")\n",
    "    f.write(str(df[\"class\"].value_counts()) + \"\\n\")\n",
    "print(\"Wrote\", out)"
   ]
  }
 ],
 "metadata": {
  "kernelspec": {
   "display_name": "Python [conda env:iris]",
   "language": "python",
   "name": "iris"
  },
  "language_info": {
   "codemirror_mode": {
    "name": "ipython",
    "version": 3
   },
   "file_extension": ".py",
   "mimetype": "text/x-python",
   "name": "python",
   "nbconvert_exporter": "python",
   "pygments_lexer": "ipython3",
   "version": "3.10.18"
  }
 },
 "nbformat": 4,
 "nbformat_minor": 5
}
